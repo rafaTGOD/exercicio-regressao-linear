{
 "cells": [
  {
   "cell_type": "code",
   "execution_count": null,
   "id": "c0f4b20c-1838-40a9-bb36-b37a6d7a3d18",
   "metadata": {},
   "outputs": [],
   "source": [
    "# Importação das bibliotecas necessárias \n",
    "import pandas as pd\n",
    "import numpy as np\n",
    "import matplotlib.pyplot as plt\n",
    "from sklearn.linear_model import LinearRegression"
   ]
  },
  {
   "cell_type": "code",
   "execution_count": null,
   "id": "c8ae9eca-5ddd-4572-924f-68fd1bcea285",
   "metadata": {
    "scrolled": true
   },
   "outputs": [],
   "source": [
    "# Carregamento da base\n",
    "base = pd.read_csv('slr12.csv', sep=';')\n",
    "base"
   ]
  },
  {
   "cell_type": "code",
   "execution_count": null,
   "id": "28f2f7fb-f6a1-4875-8400-ecc23c821f7c",
   "metadata": {},
   "outputs": [],
   "source": [
    "# Definição das variáveis\n",
    "X = base.iloc[:,0].values\n",
    "y = base.iloc[:,1].values\n",
    "X"
   ]
  },
  {
   "cell_type": "code",
   "execution_count": null,
   "id": "2f66702c-8111-4387-841a-20590455830f",
   "metadata": {},
   "outputs": [],
   "source": [
    "# Plotando um gráfico de dispersão para visualizar melhor a base\n",
    "plt.scatter(X,y)\n",
    "plt.xlabel('Taxa anual')\n",
    "plt.ylabel('Investimento inicial')\n"
   ]
  },
  {
   "cell_type": "code",
   "execution_count": null,
   "id": "d33578c0-2273-47a5-bf64-be9b25023c47",
   "metadata": {},
   "outputs": [],
   "source": [
    "# Calculando a correlação entre as variáveis\n",
    "correlacao = np.corrcoef(X,y)\n",
    "correlacao"
   ]
  },
  {
   "cell_type": "code",
   "execution_count": null,
   "id": "e8fad8af-6d9c-49ac-9d37-a798b5ff003c",
   "metadata": {},
   "outputs": [],
   "source": [
    "# Treinando o modelo\n",
    "X = X.reshape(-1, 1)\n",
    "modelo = LinearRegression()\n",
    "modelo.fit(X,y)"
   ]
  },
  {
   "cell_type": "code",
   "execution_count": null,
   "id": "19207d06-af44-41b4-8849-f15f9e8c8901",
   "metadata": {},
   "outputs": [],
   "source": [
    "# Visualizando os pontos reais e a previsão\n",
    "plt.scatter(X,y)\n",
    "plt.plot(X, modelo.predict(X))\n",
    "plt.xlabel('Taxa anual')\n",
    "plt.ylabel('Investimento inicial')"
   ]
  },
  {
   "cell_type": "code",
   "execution_count": null,
   "id": "3f27bcb9-105e-4771-a32a-9ec06d919261",
   "metadata": {},
   "outputs": [],
   "source": [
    "# Fazendo previsões do investimento inicial(y), baseado na taxa anual(X)\n",
    "modelo.predict([[700], [1500]])"
   ]
  },
  {
   "cell_type": "code",
   "execution_count": null,
   "id": "feb4064b-44a8-4512-ac9a-046539ade2c2",
   "metadata": {},
   "outputs": [],
   "source": [
    "# Algoritmo simples para o usuário digitar a taxa anual e receber a previsão\n",
    "taxa_anual = int(input('Digite o valor da taxa anual cobrada pelo franqueador: '))\n",
    "previsao = modelo.predict([[taxa_anual]])\n",
    "previsao = float(previsao[0])\n",
    "print(f'Com a taxa anual sendo {taxa_anual}, estimamos que o investimento inicial deva ser de {previsao:.2f}!')"
   ]
  },
  {
   "cell_type": "code",
   "execution_count": null,
   "id": "f957a227-2537-460a-861f-f4df73fb043e",
   "metadata": {},
   "outputs": [],
   "source": []
  }
 ],
 "metadata": {
  "kernelspec": {
   "display_name": "Python 3 (ipykernel)",
   "language": "python",
   "name": "python3"
  },
  "language_info": {
   "codemirror_mode": {
    "name": "ipython",
    "version": 3
   },
   "file_extension": ".py",
   "mimetype": "text/x-python",
   "name": "python",
   "nbconvert_exporter": "python",
   "pygments_lexer": "ipython3",
   "version": "3.11.5"
  }
 },
 "nbformat": 4,
 "nbformat_minor": 5
}
